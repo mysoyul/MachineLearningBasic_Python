{
 "cells": [
  {
   "cell_type": "markdown",
   "metadata": {},
   "source": [
    "### BikeSharing On Demand \n",
    "* 자전거 대여수를 예측 - 회귀\n",
    "1. Data Loading\n",
    "2. Data Preprocessing\n",
    "3. Visualization\n",
    "4. Feature Engineering\n",
    "5. Model / Training / Prediction\n",
    "7. Submission"
   ]
  },
  {
   "cell_type": "markdown",
   "metadata": {},
   "source": [
    "### 1. Data Load"
   ]
  },
  {
   "cell_type": "code",
   "execution_count": 1,
   "metadata": {},
   "outputs": [],
   "source": [
    "# warning ignore\n",
    "import warnings\n",
    "\n",
    "warnings.filterwarnings('ignore')"
   ]
  },
  {
   "cell_type": "code",
   "execution_count": 5,
   "metadata": {},
   "outputs": [
    {
     "name": "stdout",
     "output_type": "stream",
     "text": [
      "(10886, 12)\n",
      "(6493, 9)\n"
     ]
    }
   ],
   "source": [
    "import pandas as pd\n",
    "import numpy as np\n",
    "\n",
    "train = pd.read_csv('data/bike/train.csv', parse_dates=['datetime'])\n",
    "test = pd.read_csv('data/bike/test.csv', parse_dates=['datetime'])\n",
    "\n",
    "print(train.shape)\n",
    "print(test.shape)"
   ]
  },
  {
   "cell_type": "markdown",
   "metadata": {},
   "source": [
    "### 2. Data Preprocessing (전처리)\n",
    "* datetime 컬럼에서 년/월/일/시/분/초/요일 추출해서 새로운 컬럼을 만든다"
   ]
  },
  {
   "cell_type": "code",
   "execution_count": null,
   "metadata": {},
   "outputs": [],
   "source": []
  },
  {
   "cell_type": "markdown",
   "metadata": {},
   "source": [
    "### 3. Visualization (시각화)"
   ]
  },
  {
   "cell_type": "code",
   "execution_count": null,
   "metadata": {},
   "outputs": [],
   "source": []
  },
  {
   "cell_type": "markdown",
   "metadata": {},
   "source": [
    "### 4. Feature Selection \n"
   ]
  },
  {
   "cell_type": "code",
   "execution_count": null,
   "metadata": {},
   "outputs": [],
   "source": []
  },
  {
   "cell_type": "markdown",
   "metadata": {},
   "source": [
    "### 5. Model / Training & Prediction\n",
    "* 앙상블(ensemble) 학습 \n",
    " - 여러개의 모델을 결합하여 학습하는 방식\n",
    " - Voting / Bagging 방식\n",
    "  - 보팅과 배깅은 여러개의 분류기가 투표를 통해서 최종 예측결과를 결정하는 방식\n",
    "  - 보팅은 서로 다른 알고리즘을 가진 분류기를 결합하는 방식\n",
    "  - 배깅은 서로 같은 알고리즘 기반이며, 샘플링을 서로 다르게 해서 학습하는 방식\n",
    " - RandomForestRegressor 사용 \n",
    "  - 랜덤포레스트는 배깅방식을 사용한다 \n",
    "  - n_estimators 의 default 100 개의 decision tree를 사용함"
   ]
  },
  {
   "cell_type": "code",
   "execution_count": null,
   "metadata": {},
   "outputs": [],
   "source": []
  },
  {
   "cell_type": "markdown",
   "metadata": {},
   "source": [
    "#### 5.1 제출전에 score 확인\n",
    "* 선형회귀는 예측값과 실제값(훈련세트에 있는)차이의 평균제곱오차를 최소화 하는 \n",
    "* a,b와 를 찾아야 한다\n",
    "* y = ax + b\n",
    "* 평균제곱오차(MSE, Mean Squarred Error) - 실제값과 예측값의 차이를 제곱해서 평균한 값\n",
    "* RMSE(Root Mean Squarred Error)- 실제 오류 평균보다 커질 수 있어서 루트를 씌운값\n",
    "* scoring에서 neg_mean_absolute_error 를 적용해서 음수값을 반환하는 이유\n",
    " - scoring함수가 score가 클수록 좋은 평가지표로 평가를 하기 때문에\n",
    " - -1(음수)를 원래의 평가지표에 곱해서 작은 오류값이 더 큰 숫자로 인식되게 하기 위해서 \n",
    " - 예를 들어 10 > 1 이지만 -10 < -1 \n"
   ]
  },
  {
   "cell_type": "markdown",
   "metadata": {},
   "source": [
    "### 6. 제출하기"
   ]
  },
  {
   "cell_type": "code",
   "execution_count": null,
   "metadata": {},
   "outputs": [],
   "source": []
  }
 ],
 "metadata": {
  "kernelspec": {
   "display_name": "Python 3",
   "language": "python",
   "name": "python3"
  },
  "language_info": {
   "codemirror_mode": {
    "name": "ipython",
    "version": 3
   },
   "file_extension": ".py",
   "mimetype": "text/x-python",
   "name": "python",
   "nbconvert_exporter": "python",
   "pygments_lexer": "ipython3",
   "version": "3.8.8"
  }
 },
 "nbformat": 4,
 "nbformat_minor": 4
}
