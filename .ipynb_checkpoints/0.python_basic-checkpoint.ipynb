{
 "cells": [
  {
   "cell_type": "markdown",
   "id": "7ec116d3-699a-41d1-a2f8-536bc551b19f",
   "metadata": {},
   "source": [
    "### 마크다운\n",
    "* ctrl + enter : 해당 셀 실행\n",
    "* shift + enter : 해당 셀 실행 커서를 하위 셀로 포커싱\n",
    "* alt + enter : 해당 셀 실행 , 새로운 셀을 추가"
   ]
  }
 ],
 "metadata": {
  "kernelspec": {
   "display_name": "Python 3",
   "language": "python",
   "name": "python3"
  },
  "language_info": {
   "codemirror_mode": {
    "name": "ipython",
    "version": 3
   },
   "file_extension": ".py",
   "mimetype": "text/x-python",
   "name": "python",
   "nbconvert_exporter": "python",
   "pygments_lexer": "ipython3",
   "version": "3.8.8"
  }
 },
 "nbformat": 4,
 "nbformat_minor": 5
}
