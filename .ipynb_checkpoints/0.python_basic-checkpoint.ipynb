{
 "cells": [
  {
   "cell_type": "markdown",
   "id": "7ec116d3-699a-41d1-a2f8-536bc551b19f",
   "metadata": {},
   "source": [
    "### 마크다운\n",
    "* ctrl + enter : 해당 셀 실행\n",
    "* shift + enter : 해당 셀 실행 커서를 하위 셀로 포커싱\n",
    "* alt + enter : 해당 셀 실행 , 새로운 셀을 추가"
   ]
  },
  {
   "cell_type": "code",
   "execution_count": 1,
   "id": "40d9f41c-b39e-401b-aa2d-418b46bdd595",
   "metadata": {},
   "outputs": [
    {
     "name": "stdout",
     "output_type": "stream",
     "text": [
      "0\n",
      "1\n",
      "2\n",
      "3\n",
      "4\n",
      "5\n",
      "6\n",
      "7\n",
      "8\n",
      "9\n"
     ]
    }
   ],
   "source": [
    "for val in range(10):\n",
    "    print(val)"
   ]
  },
  {
   "cell_type": "code",
   "execution_count": 2,
   "id": "e82ace59-fe29-4f9e-903f-9c2bb0600381",
   "metadata": {},
   "outputs": [],
   "source": [
    "import numpy as np"
   ]
  },
  {
   "cell_type": "code",
   "execution_count": 5,
   "id": "2029c850-1fb4-4666-9b7f-ef2ad29748e5",
   "metadata": {},
   "outputs": [
    {
     "name": "stdout",
     "output_type": "stream",
     "text": [
      "1\n",
      "2\n",
      "3\n",
      "4\n",
      "5\n",
      "6\n",
      "7\n",
      "8\n",
      "9\n"
     ]
    }
   ],
   "source": [
    "for val in np.arange(1,10):\n",
    "    print(val)"
   ]
  },
  {
   "cell_type": "code",
   "execution_count": 9,
   "id": "000ed08d-909c-47af-aa01-e5f0333fd68e",
   "metadata": {},
   "outputs": [
    {
     "data": {
      "text/plain": [
       "[0, 4, 16, 36, 64]"
      ]
     },
     "execution_count": 9,
     "metadata": {},
     "output_type": "execute_result"
    }
   ],
   "source": [
    "result_list = []\n",
    "for val in range(10):\n",
    "    if val % 2 == 0:\n",
    "        result = val ** 2\n",
    "        result_list.append(result)\n",
    "\n",
    "result_list    "
   ]
  },
  {
   "cell_type": "code",
   "execution_count": 10,
   "id": "740b6c21-99b6-4feb-845a-3377415ea6fe",
   "metadata": {},
   "outputs": [
    {
     "data": {
      "text/plain": [
       "[0, 4, 16, 36, 64]"
      ]
     },
     "execution_count": 10,
     "metadata": {},
     "output_type": "execute_result"
    }
   ],
   "source": [
    "#list comprehension\n",
    "result_list = [val **2 for val in range(10) if val % 2 ==0]\n",
    "result_list"
   ]
  }
 ],
 "metadata": {
  "kernelspec": {
   "display_name": "Python 3",
   "language": "python",
   "name": "python3"
  },
  "language_info": {
   "codemirror_mode": {
    "name": "ipython",
    "version": 3
   },
   "file_extension": ".py",
   "mimetype": "text/x-python",
   "name": "python",
   "nbconvert_exporter": "python",
   "pygments_lexer": "ipython3",
   "version": "3.8.8"
  }
 },
 "nbformat": 4,
 "nbformat_minor": 5
}
