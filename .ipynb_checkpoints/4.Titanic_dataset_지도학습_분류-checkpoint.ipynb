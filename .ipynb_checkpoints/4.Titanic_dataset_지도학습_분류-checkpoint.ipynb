{
 "cells": [
  {
   "cell_type": "markdown",
   "metadata": {},
   "source": [
    "#### Titanic 승객의 생존여부 예측하기\n",
    "1. Data Load\n",
    "2. Data Preprocessing(전처리)\n",
    "3. Visualization (시각화)\n",
    "4. Feature Engineering (독립변수 Selection)\n",
    "5. GridSearchCV를 사용해서 Training Dataset Model의 best parameter 찿기\n",
    "6. Best Parameter를 적용한 Model 생성해서, 학습(fit) , 예측(predict) 하기\n",
    "7. Submission(제출)"
   ]
  },
  {
   "cell_type": "markdown",
   "metadata": {},
   "source": [
    "### 1. Data Load"
   ]
  },
  {
   "cell_type": "code",
   "execution_count": null,
   "metadata": {},
   "outputs": [],
   "source": []
  },
  {
   "cell_type": "markdown",
   "metadata": {},
   "source": [
    "### 2. Data Preprocessing\n",
    "* Sex(성별) : 문자로 숫자로 변경 male은 0으로, female 1\n",
    "* Embarked(선착장) : C, S, Q  One Hot Encoding 범주형 데이터 처리\n",
    "* Age,Fare : null data 처리\n"
   ]
  },
  {
   "cell_type": "code",
   "execution_count": null,
   "metadata": {},
   "outputs": [],
   "source": []
  },
  {
   "cell_type": "markdown",
   "metadata": {},
   "source": [
    "#### One Hot Encoding\n",
    "* 범주형 데이터 인코딩 \n",
    "* C, S, Q => 0, 1, 2\n",
    "* 범주형 데이터 갯수만큼의 컬럼을 새로 생성 Embarked_C, Embarked_S, Embarked_Q\n",
    "* C [True,False,False], S [False, True, False] , Q[False, False, True]"
   ]
  },
  {
   "cell_type": "code",
   "execution_count": null,
   "metadata": {},
   "outputs": [],
   "source": []
  },
  {
   "cell_type": "markdown",
   "metadata": {},
   "source": [
    "### 3. Visualization\n",
    "* CountPlot : X축, Y축 중 하나만 설정할 수 있는 막대그래프\n",
    "* BarPlot : X축, Y축 둘 다 설정할 수 있는 막대그래프\n",
    "* PointPlot : X축과 y축의 관계를 볼 수 있는 선그랲\n",
    "* DistPlot : 데이터 분포를 볼 수 있는 히스토그램\n",
    "* Lmplot : 산점도(scatter plot) + 회귀선 "
   ]
  },
  {
   "cell_type": "code",
   "execution_count": null,
   "metadata": {},
   "outputs": [],
   "source": []
  },
  {
   "cell_type": "markdown",
   "metadata": {},
   "source": [
    "### 4. Feature Engineering\n",
    "* 훈련데이터 생성\n",
    " - 훈련데이터 독립변수 (X_train)\n",
    " - 훈련데이터 종속변수 (y_train)\n",
    "* 테스트데이터 생성\n",
    " - 테스트데이터 독립변수(X_test)"
   ]
  },
  {
   "cell_type": "code",
   "execution_count": null,
   "metadata": {},
   "outputs": [],
   "source": []
  },
  {
   "cell_type": "markdown",
   "metadata": {},
   "source": [
    "### 5. GridSearchCV를 사용한 하이퍼파라미터 튜닝\n",
    "* 학습세트 분할\n",
    " - 학습세트, 검증세트로 나누기  train_test_split() \n",
    " - sub_input, sub_target\n",
    " - val_input, val_target\n",
    "* 하이퍼파라미터 찾기 - GridSearchCV\n",
    "* accuracy_score() 함수를 사용해서 점수 확인"
   ]
  },
  {
   "cell_type": "code",
   "execution_count": null,
   "metadata": {},
   "outputs": [],
   "source": []
  },
  {
   "cell_type": "markdown",
   "metadata": {},
   "source": [
    "### 6. Model 생성 / 학습 / 예측\n",
    "* DecisionTreeClassfier 알고리즘 사용\n",
    " - max_depth = 5\n",
    " * 학습 fit()\n",
    " * 예측 predict()"
   ]
  },
  {
   "cell_type": "code",
   "execution_count": null,
   "metadata": {},
   "outputs": [],
   "source": []
  },
  {
   "cell_type": "markdown",
   "metadata": {},
   "source": [
    "### 7. 제출하기"
   ]
  },
  {
   "cell_type": "code",
   "execution_count": null,
   "metadata": {},
   "outputs": [],
   "source": []
  }
 ],
 "metadata": {
  "kernelspec": {
   "display_name": "Python 3",
   "language": "python",
   "name": "python3"
  },
  "language_info": {
   "codemirror_mode": {
    "name": "ipython",
    "version": 3
   },
   "file_extension": ".py",
   "mimetype": "text/x-python",
   "name": "python",
   "nbconvert_exporter": "python",
   "pygments_lexer": "ipython3",
   "version": "3.8.8"
  }
 },
 "nbformat": 4,
 "nbformat_minor": 4
}
