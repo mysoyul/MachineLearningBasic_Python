{
 "cells": [
  {
   "cell_type": "code",
   "execution_count": 1,
   "metadata": {
    "id": "0VEb9Rf8rbby"
   },
   "outputs": [],
   "source": [
    "#from preamble import *\n",
    "import pandas as pd\n",
    "%matplotlib inline\n",
    "import matplotlib.pyplot as plt\n",
    "from sklearn.cluster import KMeans\n",
    "import seaborn as sns"
   ]
  },
  {
   "cell_type": "code",
   "execution_count": 2,
   "metadata": {
    "id": "Pa16kc7irbb2"
   },
   "outputs": [],
   "source": [
    "df = pd.DataFrame(columns=['x','y'])"
   ]
  },
  {
   "cell_type": "code",
   "execution_count": 3,
   "metadata": {
    "id": "M-FZC_ldrbb3"
   },
   "outputs": [],
   "source": [
    "df.loc[0] = [3,1]\n",
    "\n",
    "df.loc[1] = [4,1]\n",
    "\n",
    "df.loc[2] = [3,2]\n",
    "\n",
    "df.loc[3] = [4,2]\n",
    "\n",
    "df.loc[4] = [10,5]\n",
    "\n",
    "df.loc[5] = [10,6]\n",
    "\n",
    "df.loc[6] = [11,5]\n",
    "\n",
    "df.loc[7] = [11,6]\n",
    "\n",
    "df.loc[8] = [15,1]\n",
    "\n",
    "df.loc[9] = [15,2]\n",
    "\n",
    "df.loc[10] = [16,1]\n",
    "\n",
    "df.loc[11] = [16,2]"
   ]
  },
  {
   "cell_type": "code",
   "execution_count": null,
   "metadata": {
    "id": "eOKreAdErbb9"
   },
   "outputs": [],
   "source": []
  }
 ],
 "metadata": {
  "colab": {
   "collapsed_sections": [],
   "name": "9.비지도학습_KMeans_seaborn사용.ipynb",
   "provenance": []
  },
  "kernelspec": {
   "display_name": "Python 3",
   "language": "python",
   "name": "python3"
  },
  "language_info": {
   "codemirror_mode": {
    "name": "ipython",
    "version": 3
   },
   "file_extension": ".py",
   "mimetype": "text/x-python",
   "name": "python",
   "nbconvert_exporter": "python",
   "pygments_lexer": "ipython3",
   "version": "3.8.8"
  }
 },
 "nbformat": 4,
 "nbformat_minor": 1
}
