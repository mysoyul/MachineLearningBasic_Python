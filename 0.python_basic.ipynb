{
 "cells": [
  {
   "cell_type": "markdown",
   "id": "7ec116d3-699a-41d1-a2f8-536bc551b19f",
   "metadata": {},
   "source": [
    "### 마크다운\n",
    "* ctrl + enter : 해당 셀 실행\n",
    "* shift + enter : 해당 셀 실행 커서를 하위 셀로 포커싱\n",
    "* alt + enter : 해당 셀 실행 , 새로운 셀을 추가"
   ]
  },
  {
   "cell_type": "code",
   "execution_count": 1,
   "id": "40d9f41c-b39e-401b-aa2d-418b46bdd595",
   "metadata": {},
   "outputs": [
    {
     "name": "stdout",
     "output_type": "stream",
     "text": [
      "0\n",
      "1\n",
      "2\n",
      "3\n",
      "4\n",
      "5\n",
      "6\n",
      "7\n",
      "8\n",
      "9\n"
     ]
    }
   ],
   "source": [
    "for val in range(10):\n",
    "    print(val)"
   ]
  },
  {
   "cell_type": "code",
   "execution_count": 2,
   "id": "e82ace59-fe29-4f9e-903f-9c2bb0600381",
   "metadata": {},
   "outputs": [],
   "source": [
    "import numpy as np"
   ]
  },
  {
   "cell_type": "code",
   "execution_count": 5,
   "id": "2029c850-1fb4-4666-9b7f-ef2ad29748e5",
   "metadata": {},
   "outputs": [
    {
     "name": "stdout",
     "output_type": "stream",
     "text": [
      "1\n",
      "2\n",
      "3\n",
      "4\n",
      "5\n",
      "6\n",
      "7\n",
      "8\n",
      "9\n"
     ]
    }
   ],
   "source": [
    "for val in np.arange(1,10):\n",
    "    print(val)"
   ]
  },
  {
   "cell_type": "code",
   "execution_count": 9,
   "id": "000ed08d-909c-47af-aa01-e5f0333fd68e",
   "metadata": {},
   "outputs": [
    {
     "data": {
      "text/plain": [
       "[0, 4, 16, 36, 64]"
      ]
     },
     "execution_count": 9,
     "metadata": {},
     "output_type": "execute_result"
    }
   ],
   "source": [
    "result_list = []\n",
    "for val in range(10):\n",
    "    if val % 2 == 0:\n",
    "        result = val ** 2\n",
    "        result_list.append(result)\n",
    "\n",
    "result_list    "
   ]
  },
  {
   "cell_type": "code",
   "execution_count": 11,
   "id": "740b6c21-99b6-4feb-845a-3377415ea6fe",
   "metadata": {},
   "outputs": [
    {
     "data": {
      "text/plain": [
       "[0, 4, 16, 36, 64]"
      ]
     },
     "execution_count": 11,
     "metadata": {},
     "output_type": "execute_result"
    }
   ],
   "source": [
    "#list comprehension\n",
    "result_list = [val **2 for val in range(10) if val % 2 ==0]\n",
    "result_list"
   ]
  },
  {
   "cell_type": "code",
   "execution_count": 12,
   "id": "6cac99df-8f79-44ef-8b35-6ef272f6d05d",
   "metadata": {},
   "outputs": [],
   "source": [
    "def swap(a,b):\n",
    "    return (b,a)"
   ]
  },
  {
   "cell_type": "code",
   "execution_count": 14,
   "id": "9fff69bd-1c36-4bc8-b201-4f7ff0ccec1f",
   "metadata": {},
   "outputs": [
    {
     "name": "stdout",
     "output_type": "stream",
     "text": [
      "20\n",
      "10\n"
     ]
    }
   ],
   "source": [
    "a,b = swap(10,20)\n",
    "print(a)\n",
    "print(b)"
   ]
  },
  {
   "cell_type": "code",
   "execution_count": 15,
   "id": "f29d8c99-7a2c-4cf2-9bdb-930a24555188",
   "metadata": {},
   "outputs": [],
   "source": [
    "def add(n1,n2):\n",
    "    return n1 + n2"
   ]
  },
  {
   "cell_type": "code",
   "execution_count": 17,
   "id": "d63964be-405f-494f-aea4-45147567fbf4",
   "metadata": {},
   "outputs": [
    {
     "data": {
      "text/plain": [
       "30"
      ]
     },
     "execution_count": 17,
     "metadata": {},
     "output_type": "execute_result"
    }
   ],
   "source": [
    "add(10,20)"
   ]
  },
  {
   "cell_type": "code",
   "execution_count": 18,
   "id": "a30fc481-f08d-41f4-a953-b266ed023dfd",
   "metadata": {},
   "outputs": [],
   "source": [
    "add2 = lambda n1, n2 : n1 + n2"
   ]
  },
  {
   "cell_type": "code",
   "execution_count": 19,
   "id": "6a0cb61a-b646-4635-9a0c-42766f8e4f2d",
   "metadata": {},
   "outputs": [
    {
     "data": {
      "text/plain": [
       "50"
      ]
     },
     "execution_count": 19,
     "metadata": {},
     "output_type": "execute_result"
    }
   ],
   "source": [
    "add2(10,40)"
   ]
  }
 ],
 "metadata": {
  "kernelspec": {
   "display_name": "Python 3",
   "language": "python",
   "name": "python3"
  },
  "language_info": {
   "codemirror_mode": {
    "name": "ipython",
    "version": 3
   },
   "file_extension": ".py",
   "mimetype": "text/x-python",
   "name": "python",
   "nbconvert_exporter": "python",
   "pygments_lexer": "ipython3",
   "version": "3.8.8"
  }
 },
 "nbformat": 4,
 "nbformat_minor": 5
}
