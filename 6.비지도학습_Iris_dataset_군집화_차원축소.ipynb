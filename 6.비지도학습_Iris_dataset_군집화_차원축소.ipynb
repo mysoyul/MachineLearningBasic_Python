{
 "cells": [
  {
   "cell_type": "markdown",
   "metadata": {
    "id": "YRS1_fGErgaY"
   },
   "source": [
    "#### 비지도학습\n",
    "##### 1. 군집화\n",
    "* 비지도학습은 데이터의 구조를 파악해서 그룹핑을 하거나 차원을 축소하거나 할때 사용하는 학습방식\n",
    "* 1. 클러스터링 : 비슷한 유형의 데이터들을 그룹핑 해주는 학습방법\n",
    "* 2. 클러스터링을 지원하는 알고리즘은 K-Means 가 있다. \n",
    "\n",
    "##### 2. 차원축소\n",
    "* 비지도 학습을 통해서 데이터를 변환하는 방식\n",
    "* 데이터를 변환(차원축소)하는 이유는?\n",
    " - 데이터를 시각화하거나, 데이터를 압축, 지도학습에 사용하기 위해서 정보가 더 잘 나타나도록 하기 위해서이다. \n",
    "* 차원축소를 지원하는 알고리즘은 PCA(Principal Component Analysis)가 있다. "
   ]
  },
  {
   "cell_type": "code",
   "execution_count": null,
   "metadata": {
    "id": "5k3JfVVFrgav",
    "outputId": "5bda1533-58a4-492a-b91d-eeb6ce6daa95"
   },
   "outputs": [],
   "source": []
  },
  {
   "cell_type": "markdown",
   "metadata": {
    "id": "bI3J070trgaw"
   },
   "source": [
    "### Intertia value를 이용한 적정 군집수 판단\n",
    "* Intertia value는 중심점(centroid)에서 데이터간의 거리를 합산한 값이며, 군집의 응집도를 나타내는 값이다.  이 값을 작을수록 응집도가 높게 군집화가 잘 되었다는 의미\n",
    "* 1  ~ 6개의 클러스로 클러스터링을 했을 각 클러스터 갯수별로 intertia value를 출력해보기\n",
    "* itertia 값이 클러스터값이 3~5 사이에서 급격하게 하강해서 변화의 폭이 크지 않다는 것을 알 수 있으므로, iris 데이터는 3 ~ 5개의 클러스터로 분류하는 것이 적당하다고 판단하는 것임"
   ]
  },
  {
   "cell_type": "code",
   "execution_count": null,
   "metadata": {},
   "outputs": [],
   "source": []
  },
  {
   "cell_type": "markdown",
   "metadata": {
    "id": "UYwBIwmNrgax"
   },
   "source": [
    "#### 크로스 테이블 체크\n",
    "* Cross Tabulation은 테이블 형태로 교차분석한 결과\n",
    "* pandas의 .crosstab 함수를 사용한다."
   ]
  },
  {
   "cell_type": "code",
   "execution_count": null,
   "metadata": {},
   "outputs": [],
   "source": []
  },
  {
   "cell_type": "markdown",
   "metadata": {
    "id": "Bdsju5v8rgaz"
   },
   "source": [
    "#### 차원축소 \n",
    "* 차원축소 한 데이터를 시각화하기"
   ]
  },
  {
   "cell_type": "markdown",
   "metadata": {
    "id": "b6cRRKdFrga4"
   },
   "source": [
    "### Wheat Seed Dataset  활용한 군집화\n"
   ]
  },
  {
   "cell_type": "code",
   "execution_count": null,
   "metadata": {},
   "outputs": [],
   "source": []
  }
 ],
 "metadata": {
  "colab": {
   "collapsed_sections": [],
   "name": "9.Iris_dataset_비지도학습_군집화_차원축소.ipynb",
   "provenance": []
  },
  "kernelspec": {
   "display_name": "Python 3",
   "language": "python",
   "name": "python3"
  },
  "language_info": {
   "codemirror_mode": {
    "name": "ipython",
    "version": 3
   },
   "file_extension": ".py",
   "mimetype": "text/x-python",
   "name": "python",
   "nbconvert_exporter": "python",
   "pygments_lexer": "ipython3",
   "version": "3.8.8"
  }
 },
 "nbformat": 4,
 "nbformat_minor": 1
}
